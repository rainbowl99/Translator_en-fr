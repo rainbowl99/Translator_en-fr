{
 "cells": [
  {
   "cell_type": "code",
   "execution_count": 5,
   "metadata": {},
   "outputs": [],
   "source": [
    "from pathlib import Path\n",
    "import torch\n",
    "import torch.nn as nn\n",
    "from config import get_config, latest_weights_file_path\n",
    "from train import get_model, get_ds, run_validation\n",
    "from translate import translate"
   ]
  },
  {
   "cell_type": "code",
   "execution_count": 7,
   "metadata": {},
   "outputs": [
    {
     "name": "stdout",
     "output_type": "stream",
     "text": [
      "Using device: cuda\n"
     ]
    },
    {
     "data": {
      "text/plain": [
       "<All keys matched successfully>"
      ]
     },
     "execution_count": 7,
     "metadata": {},
     "output_type": "execute_result"
    }
   ],
   "source": [
    "# Define the device\n",
    "device = torch.device(\"cuda\" if torch.cuda.is_available() else \"cpu\")\n",
    "print(\"Using device:\", device)\n",
    "config = get_config()\n",
    "train_dataloader, val_dataloader, tokenizer_src, tokenizer_tgt = get_ds(config)\n",
    "model = get_model(config, tokenizer_src.get_vocab_size(), tokenizer_tgt.get_vocab_size()).to(device)\n",
    "\n",
    "# Load the pretrained weights\n",
    "model_filename = latest_weights_file_path(config)\n",
    "state = torch.load(model_filename, weights_only=True)\n",
    "model.load_state_dict(state['model_state_dict'])"
   ]
  },
  {
   "cell_type": "code",
   "execution_count": 8,
   "metadata": {},
   "outputs": [
    {
     "name": "stdout",
     "output_type": "stream",
     "text": [
      "--------------------------------------------------------------------------------\n",
      "    SOURCE: \"I am waiting for him; he is over there.\"\n",
      "    TARGET: —Je l'attends, il est par la.\n",
      " PREDICTED: -- Je l ' attends , il est la .\n",
      "--------------------------------------------------------------------------------\n",
      "    SOURCE: \"We shall have a warm day of it,\" said the reporter, laughing.\n",
      "    TARGET: «Une chaude journée qui se prépare! dit joyeusement le reporter.\n",
      " PREDICTED: « Nous en aurons un jour chaud , dit le reporter en riant .\n",
      "--------------------------------------------------------------------------------\n",
      "    SOURCE: When the darkness began to stupefy him, weighing on his skull almost to madness, he would light up for a moment; then, as soon as he had chased away the nightmare, he extinguished the candle, miserly of this brightness which was as necessary to his life as bread.\n",
      "    TARGET: Lorsque les ténebres finissaient par l'hébéter, par lui peser sur le crâne a le rendre fou, il allumait un instant; puis, des qu'il avait chassé le cauchemar, il éteignait, avare de cette clarté nécessaire a sa vie, autant que le pain.\n",
      " PREDICTED: Quand l ' obscurité commençait à , le pesait sur son crâne , devenu presque en lui de la folie , il un instant ; puis , dès qu ' il eut chassé le cauchemar , il éteignait , avare de cette clarté nécessaire à sa vie , autant que le pain .\n",
      "--------------------------------------------------------------------------------\n",
      "    SOURCE: Tout le monde à la cour s’accorde à lui reconnaître le caractère le plus doux ; jamais il n’a donné de sujet de plainte à personne ; il est fort bel homme, jeune, fort bien vu du prince, et je dis qu’il faut être folle à lier pour repousser ses hommages.\n",
      "    TARGET: Everyone at court agrees that he has the sweetest temper; he has never given anyone cause for complaint; he is a fine looking man, young, popular with the Prince; and I say that you ought to be shut up in a madhouse if you reject his advances.\n",
      " PREDICTED: Everyone at court at his the character : never has given his case altogether to , he is a handsome man , young , well , too , has seen the Prince , and I say that he must be down to his devotion to his .\n",
      "--------------------------------------------------------------------------------\n",
      "    SOURCE: The fruits of your research must not be lost.\n",
      "    TARGET: Il ne faut pas que le fruit de vos études soit perdu.\n",
      " PREDICTED: Il ne faut pas que le fruit de vos études soit perdu .\n",
      "--------------------------------------------------------------------------------\n",
      "    SOURCE: \"Why not go round to the Five's Court?\" suggested Sir John Lade.\n",
      "    TARGET: -- Pourquoi n'irait-on pas à Five's Court? suggéra sir John.\n",
      " PREDICTED: -- Pourquoi ne pas faire le tour de la cour de Cinq ? demanda Sir John Lade .\n",
      "--------------------------------------------------------------------------------\n",
      "    SOURCE: I was right, therefore, my last letter had never reached her.\n",
      "    TARGET: Je ne m’étais donc pas trompée ; elle n’avait pas reçu ma derniere lettre.\n",
      " PREDICTED: Je n ' avais donc pas reçu ma dernière lettre .\n",
      "--------------------------------------------------------------------------------\n",
      "    SOURCE: \"Then, addressing the man who accompanied him, ’Executioner,’ said he, ’do your duty.’\"\n",
      "    TARGET: «Puis s'adressant à l'homme qui l'accompagnait:\n",
      " PREDICTED: « Alors , s ' adressant à l ' homme qui l ' accompagnait :\n",
      "--------------------------------------------------------------------------------\n",
      "    SOURCE: \"I am not mistaken.\"\n",
      "    TARGET: -- Je ne me trompe pas.\n",
      " PREDICTED: -- Je ne me trompe pas .\n",
      "--------------------------------------------------------------------------------\n",
      "    SOURCE: No doubt he guessed the reason of my departure, for he insisted that I should stay, but, seeing that if I did not carry out my intention the consequences, in the state in which I was, might be fatal, he embraced me, and begged me, almost, with tears, to return without delay.\n",
      "    TARGET: Il devina sans doute le motif qui me faisait partir, car il insista pour que je restasse; mais, voyant que l'inexécution de ce désir, dans l'état irritable où j'étais, pourrait avoir des conséquences fatales pour moi, il m'embrassa, et me pria, presque avec des larmes, de revenir bientôt auprès de lui.\n",
      " PREDICTED: Sans doute il devina la raison de mon départ , car il insista pour que je , mais , voyant que je ne pas mon intention , dans l ' état où j ' étais , il pourrait me faire peur , et me pria , presque en pleurs , de revenir sans délai .\n",
      "--------------------------------------------------------------------------------\n"
     ]
    }
   ],
   "source": [
    "run_validation(model, val_dataloader, tokenizer_src, tokenizer_tgt, config['seq_len'], device, lambda msg: print(msg), 0, None, num_examples=10)"
   ]
  },
  {
   "cell_type": "code",
   "execution_count": 22,
   "metadata": {},
   "outputs": [
    {
     "name": "stdout",
     "output_type": "stream",
     "text": [
      "    SOURCE: I think your wallet is lost.\n",
      "TRANSLATED: Je crois que votre valise est perdue .  "
     ]
    }
   ],
   "source": [
    "t = translate(\"I think your wallet is lost.\")"
   ]
  },
  {
   "cell_type": "code",
   "execution_count": 13,
   "metadata": {},
   "outputs": [
    {
     "name": "stdout",
     "output_type": "stream",
     "text": [
      "        ID: 35\n",
      "    SOURCE: The christening bells stopped suddenly, like festive chimes at a mistaken time and place. Boujardon and his men, rifles slung over their shoulders, dragged off the fire engine at a slow trot, and I saw them disappear at the first turning, followed by four silent urchins, crushing under their heavy boots the twigs on the frozen road, down which I dared not follow them.\n",
      "    TARGET: Le carillon du baptême s’arrêta soudain, comme une sonnerie de fête qui se serait trompée de jour et d’endroit ; Boujardon et ses hommes, l’arme en bandoulière, emmenèrent la pompe au petit trot ; et je les vis disparaître au premier tournant, suivis de quatre gamins silencieux, écrasant de leurs grosses semelles les brindilles de la route givrée où je n’osais pas les suivre.\n",
      "TRANSLATED: Le carillon du baptême s ’ arrêta soudain , comme une sonnerie de fête qui se trompait à l ’ heure et l ’ heure et l ’ œil du baptême . Le tambour de course . Le tambour de sonner à petit trot ; les  , comme une sonnerie , comme une sonnerie de ces  , je les vit s ’  , suivi de ces quatre gamins  … »  … »  … Le tete de leurs gros  …  "
     ]
    }
   ],
   "source": [
    "t = translate(35)"
   ]
  },
  {
   "cell_type": "code",
   "execution_count": null,
   "metadata": {},
   "outputs": [],
   "source": []
  }
 ],
 "metadata": {
  "kernelspec": {
   "display_name": "LLM",
   "language": "python",
   "name": "python3"
  },
  "language_info": {
   "codemirror_mode": {
    "name": "ipython",
    "version": 3
   },
   "file_extension": ".py",
   "mimetype": "text/x-python",
   "name": "python",
   "nbconvert_exporter": "python",
   "pygments_lexer": "ipython3",
   "version": "3.11.10"
  }
 },
 "nbformat": 4,
 "nbformat_minor": 2
}
